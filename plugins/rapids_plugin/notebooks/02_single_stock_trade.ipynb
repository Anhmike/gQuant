{
 "cells": [
  {
   "cell_type": "markdown",
   "metadata": {},
   "source": [
    "### gQuant Tutorial\n",
    "First import all the necessary modules."
   ]
  },
  {
   "cell_type": "code",
   "execution_count": 1,
   "metadata": {},
   "outputs": [],
   "source": [
    "import sys; sys.path.insert(0, '..')\n",
    "import os\n",
    "import warnings\n",
    "import ipywidgets as widgets\n",
    "from gquant.dataframe_flow import TaskGraph\n",
    "\n",
    "warnings.simplefilter(\"ignore\")"
   ]
  },
  {
   "cell_type": "code",
   "execution_count": 2,
   "metadata": {},
   "outputs": [
    {
     "name": "stdout",
     "output_type": "stream",
     "text": [
      "Dataset is already present. No need to re-download it.\n"
     ]
    }
   ],
   "source": [
    "! ((test ! -f './data/stock_price_hist.csv.gz' ||  test ! -f './data/security_master.csv.gz') && \\\n",
    "  cd .. && bash download_data.sh) || echo \"Dataset is already present. No need to re-download it.\""
   ]
  },
  {
   "cell_type": "markdown",
   "metadata": {},
   "source": [
    "In this tutorial, we are going to use gQuant to do a simple quant job. The task is fully described in a yaml file"
   ]
  },
  {
   "cell_type": "code",
   "execution_count": 3,
   "metadata": {},
   "outputs": [
    {
     "name": "stdout",
     "output_type": "stream",
     "text": [
      "- conf:\n",
      "    file: notebooks/data/stock_price_hist.csv.gz\n",
      "  id: stock_data\n",
      "  inputs: {}\n",
      "  module: gquant_rapids_plugin.dataloader\n",
      "  type: CsvStockLoader\n",
      "- conf:\n",
      "    file: notebooks/data/security_master.csv.gz\n",
      "  id: stock_name\n",
      "  inputs: {}\n",
      "  module: gquant_rapids_plugin.dataloader\n",
      "  type: StockNameLoader\n",
      "- conf:\n",
      "    asset: 4330\n",
      "  id: stock_selector\n",
      "  inputs:\n",
      "    name_map: stock_name.map_data\n",
      "    stock_in: stock_data.cudf_out\n",
      "  module: gquant_rapids_plugin.transform\n",
      "  type: AssetFilterNode\n",
      "- conf: {}\n",
      "  id: ''\n",
      "  inputs:\n",
      "    in1: stock_selector.stock_name\n",
      "    in2: lineplot.lineplot\n",
      "    in3: barplot.barplot\n",
      "    in4: sharpe_ratio.sharpe_out\n",
      "    in5: cumulative_return.cum_return\n",
      "    in6: stock_data.cudf_out\n",
      "  module: rapids_modules\n",
      "  type: Output_Collector\n"
     ]
    }
   ],
   "source": [
    "!head -n 31 ../taskgraphs/simple_trade.gq.yaml"
   ]
  },
  {
   "cell_type": "markdown",
   "metadata": {},
   "source": [
    "The yaml file is describing the computation task by a graph, we can visualize it"
   ]
  },
  {
   "cell_type": "code",
   "execution_count": 4,
   "metadata": {},
   "outputs": [
    {
     "data": {
      "application/vnd.jupyter.widget-view+json": {
       "model_id": "205d890c5eaa49f7b8c5130b97ef8980",
       "version_major": 2,
       "version_minor": 0
      },
      "text/plain": [
       "GQuantWidget(sub=HBox(), value=[OrderedDict([('id', 'stock_data'), ('type', 'CsvStockLoader'), ('conf', {'file…"
      ]
     },
     "metadata": {},
     "output_type": "display_data"
    }
   ],
   "source": [
    "task_graph = TaskGraph.load_taskgraph('../taskgraphs/simple_trade.gq.yaml')\n",
    "task_graph.draw()"
   ]
  },
  {
   "cell_type": "code",
   "execution_count": 5,
   "metadata": {},
   "outputs": [
    {
     "name": "stdout",
     "output_type": "stream",
     "text": [
      "\n"
     ]
    },
    {
     "data": {
      "application/vnd.jupyter.widget-view+json": {
       "model_id": "8a424b40940546e2931d8f13f3f2e74c",
       "version_major": 2,
       "version_minor": 0
      },
      "text/plain": [
       "Tab(children=(Output(), Output(), Output(), Output(), Output(), Output(), Output(layout=Layout(border='1px sol…"
      ]
     },
     "metadata": {},
     "output_type": "display_data"
    }
   ],
   "source": [
    "task_graph.run(formated=True)"
   ]
  },
  {
   "cell_type": "markdown",
   "metadata": {},
   "source": [
    "We define a method to organize the output images"
   ]
  },
  {
   "cell_type": "code",
   "execution_count": 6,
   "metadata": {},
   "outputs": [],
   "source": [
    "def plot_figures(result):\n",
    "    # format the figures\n",
    "    figure_width = '1200px'\n",
    "    figure_height = '400px'\n",
    "    bar_figure = result['barplot.barplot']\n",
    "    sharpe_number = result['sharpe_ratio.sharpe_out']\n",
    "    cum_return = result['cumulative_return.cum_return']\n",
    "    signals = result['lineplot.lineplot']\n",
    "    symbol = result['stock_selector.stock_name']\n",
    "\n",
    "    bar_figure.layout.height = figure_height\n",
    "    bar_figure.layout.width = figure_width\n",
    "    cum_return.layout.height = figure_height\n",
    "    cum_return.layout.width = figure_width\n",
    "    cum_return.title = 'P & L %.3f' % (sharpe_number)\n",
    "    bar_figure.marks[0].labels = [symbol]\n",
    "    cum_return.marks[0].labels = [symbol]\n",
    "    signals.layout.height = figure_height\n",
    "    signals.layout.width = figure_width\n",
    "    bar_figure.axes = [bar_figure.axes[1]]\n",
    "    cum_return.axes = [cum_return.axes[0]]\n",
    "    output = widgets.VBox([bar_figure, cum_return, signals])\n",
    "\n",
    "    return output"
   ]
  },
  {
   "cell_type": "markdown",
   "metadata": {},
   "source": [
    "Rerun the graph and send the computation result to the `plot_figure` method"
   ]
  },
  {
   "cell_type": "code",
   "execution_count": 7,
   "metadata": {},
   "outputs": [
    {
     "data": {
      "application/vnd.jupyter.widget-view+json": {
       "model_id": "40e6288fcd354e9eb0870f2dbfbb8608",
       "version_major": 2,
       "version_minor": 0
      },
      "text/plain": [
       "VBox(children=(Figure(axes=[Axis(label='Price', orientation='vertical', scale=LinearScale(max=38.13, min=-10.1…"
      ]
     },
     "metadata": {},
     "output_type": "display_data"
    }
   ],
   "source": [
    "result = task_graph.run()\n",
    "plot_figures(result)"
   ]
  },
  {
   "cell_type": "markdown",
   "metadata": {},
   "source": [
    "You can change the TaskGraph node parameters interatively and hit the run button to get the updated result. It can also be done programtically, E.g. change the mean reversion parameters:"
   ]
  },
  {
   "cell_type": "code",
   "execution_count": 8,
   "metadata": {},
   "outputs": [
    {
     "data": {
      "application/vnd.jupyter.widget-view+json": {
       "model_id": "df21e88386a2487a9f8ae6f9bbe5ac40",
       "version_major": 2,
       "version_minor": 0
      },
      "text/plain": [
       "VBox(children=(Figure(axes=[Axis(label='Price', orientation='vertical', scale=LinearScale(max=38.13, min=-10.1…"
      ]
     },
     "metadata": {},
     "output_type": "display_data"
    }
   ],
   "source": [
    "o = task_graph.run(\n",
    "            outputs=(list(result.get_keys())[0:]),\n",
    "            replace={'stock_data': {\"load\": {'cudf_out': result['stock_data.cudf_out']}},\n",
    "                     'mean_reversion': {'conf': {'fast': 1, 'slow': 10}}})\n",
    "figure_combo = plot_figures(o)\n",
    "figure_combo"
   ]
  },
  {
   "cell_type": "markdown",
   "metadata": {},
   "source": [
    "Since computation is accelerated in the GPU, we can do hyper-parameter search interatively, try to change the parameters of the `slow` and `fast` for the moving average and see if you can improve the result:"
   ]
  },
  {
   "cell_type": "code",
   "execution_count": 9,
   "metadata": {},
   "outputs": [
    {
     "data": {
      "application/vnd.jupyter.widget-view+json": {
       "model_id": "3e80a4f4282f4f19bf2efce27c378ff6",
       "version_major": 2,
       "version_minor": 0
      },
      "text/plain": [
       "VBox(children=(HBox(children=(IntRangeSlider(value=(10, 30), continuous_update=False, description='MA:', max=6…"
      ]
     },
     "metadata": {},
     "output_type": "display_data"
    }
   ],
   "source": [
    "para_selector = widgets.IntRangeSlider(value=[10, 30],\n",
    "                                       min=3,\n",
    "                                       max=60,\n",
    "                                       step=1,\n",
    "                                       description=\"MA:\",\n",
    "                                       disabled=False,\n",
    "                                       continuous_update=False,\n",
    "                                       orientation='horizontal',\n",
    "                                       readout=True)\n",
    "\n",
    "\n",
    "def para_selection(*stocks):\n",
    "    with out:\n",
    "        print('run')\n",
    "        para1 = para_selector.value[0]\n",
    "        para2 = para_selector.value[1]\n",
    "        o = task_graph.run(\n",
    "            outputs=(list(result.get_keys())[0:]),\n",
    "            replace={'stock_data': {\"load\": {'cudf_out': result['stock_data.cudf_out']}},\n",
    "                     'mean_reversion': {'conf': {'fast': para1, 'slow': para2}}})\n",
    "        figure_combo = plot_figures(o)\n",
    "        if (len(w.children) < 2):\n",
    "            w.children = (w.children[0], figure_combo,)\n",
    "        else:\n",
    "            w.children[1].children[1].marks = figure_combo.children[1].marks\n",
    "            w.children[1].children[2].marks = figure_combo.children[2].marks\n",
    "            w.children[1].children[1].title = 'P & L %.3f' % (o['sharpe_ratio.sharpe_out'])\n",
    "\n",
    "\n",
    "out = widgets.Output(layout={'border': '1px solid black'})\n",
    "para_selector.observe(para_selection, 'value')\n",
    "selectors = widgets.HBox([para_selector])\n",
    "w = widgets.VBox([selectors])\n",
    "w"
   ]
  },
  {
   "cell_type": "code",
   "execution_count": 10,
   "metadata": {},
   "outputs": [
    {
     "data": {
      "text/plain": [
       "{'status': 'ok', 'restart': True}"
      ]
     },
     "execution_count": 10,
     "metadata": {},
     "output_type": "execute_result"
    }
   ],
   "source": [
    "import IPython\n",
    "app = IPython.Application.instance()\n",
    "app.kernel.do_shutdown(True)"
   ]
  },
  {
   "cell_type": "code",
   "execution_count": null,
   "metadata": {},
   "outputs": [],
   "source": []
  }
 ],
 "metadata": {
  "kernelspec": {
   "display_name": "Python 3",
   "language": "python",
   "name": "python3"
  },
  "language_info": {
   "codemirror_mode": {
    "name": "ipython",
    "version": 3
   },
   "file_extension": ".py",
   "mimetype": "text/x-python",
   "name": "python",
   "nbconvert_exporter": "python",
   "pygments_lexer": "ipython3",
   "version": "3.8.5"
  }
 },
 "nbformat": 4,
 "nbformat_minor": 4
}
