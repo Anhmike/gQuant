{
 "cells": [
  {
   "cell_type": "markdown",
   "id": "5c7f98a2-d4c1-4d55-b1af-26fdc64b1ee8",
   "metadata": {},
   "source": [
    "## Benchmarking Scipy Signal vs cuSignal Time to Create Windows in Greenflow"
   ]
  },
  {
   "cell_type": "markdown",
   "id": "6cdd64ff-0e65-47ce-9bc0-cb274b5a5162",
   "metadata": {},
   "source": [
    "The windows examples were taken from the example [cusignal windows notebook](https://github.com/rapidsai/cusignal/blob/branch-21.08/notebooks/api_guide/windows_examples.ipynb)."
   ]
  },
  {
   "cell_type": "markdown",
   "id": "67b10a18-fd7c-4779-8eb1-90fada4c2223",
   "metadata": {},
   "source": [
    "### General Parameters"
   ]
  },
  {
   "cell_type": "code",
   "execution_count": 1,
   "id": "4715e285-12f5-4970-9c4b-0aee9a06413a",
   "metadata": {},
   "outputs": [],
   "source": [
    "import cupy.testing as cptest"
   ]
  },
  {
   "cell_type": "code",
   "execution_count": 2,
   "id": "0789f1b6-e15d-40ca-b35b-717f2bb697b0",
   "metadata": {},
   "outputs": [],
   "source": [
    "from greenflow.dataframe_flow import (TaskGraph, TaskSpecSchema)"
   ]
  },
  {
   "cell_type": "code",
   "execution_count": 3,
   "id": "69c42bc1-df38-48f3-ad74-840a52588915",
   "metadata": {},
   "outputs": [],
   "source": [
    "# Num Points in Array - Reduce if getting out of memory errors\n",
    "M = int(1e7)"
   ]
  },
  {
   "cell_type": "code",
   "execution_count": 4,
   "id": "baab0011-effb-428b-8146-3535b156c046",
   "metadata": {},
   "outputs": [
    {
     "data": {
      "image/png": "[encoded data removed]",
      "text/plain": [
       "<IPython.core.display.Image object>"
      ]
     },
     "execution_count": 4,
     "metadata": {},
     "output_type": "execute_result"
    }
   ],
   "source": [
    "tgraph_win = TaskGraph.load_taskgraph('./taskgraphs/window_signal.gq.yaml')\n",
    "tgraph_win.build()\n",
    "tgraph_win.draw(show='ipynb', show_ports=True, pydot_options={'rankdir': 'LR'})"
   ]
  },
  {
   "cell_type": "markdown",
   "id": "23004111-06e4-42df-99cf-9efd1f41b28c",
   "metadata": {},
   "source": [
    "### General Cosine"
   ]
  },
  {
   "cell_type": "code",
   "execution_count": 5,
   "id": "f4c89c4a-416d-40bc-bcd2-5341d2e82704",
   "metadata": {},
   "outputs": [],
   "source": [
    "HFT90D = [1, 1.942604, 1.340318, 0.440811, 0.043097]\n",
    "win_params = {\n",
    "    'window_type': 'general_cosine',\n",
    "    'M': M,\n",
    "    'a': HFT90D,\n",
    "    'sym': False\n",
    "}\n",
    "\n",
    "replace_gpu = {\n",
    "    'winsig': {\n",
    "        TaskSpecSchema.conf: win_params\n",
    "    }\n",
    "}\n",
    "\n",
    "replace_cpu = {\n",
    "    'winsig': {\n",
    "        TaskSpecSchema.conf: {\n",
    "            **win_params,\n",
    "            'use_cpu': True\n",
    "        }\n",
    "    }\n",
    "}\n",
    "\n",
    "(gwin,) = tgraph_win.run(['winsig.window'], replace=replace_gpu)\n",
    "(cwin,) = tgraph_win.run(['winsig.window'], replace=replace_cpu)\n",
    "cptest.assert_array_almost_equal(gwin, cwin)"
   ]
  },
  {
   "cell_type": "code",
   "execution_count": 6,
   "id": "f7bfae1e-deaf-4351-819c-6edf4984fcb3",
   "metadata": {},
   "outputs": [
    {
     "name": "stdout",
     "output_type": "stream",
     "text": [
      "3.57 ms ± 25.2 µs per loop (mean ± std. dev. of 7 runs, 100 loops each)\n"
     ]
    }
   ],
   "source": [
    "gpu_time = %timeit -o (gwin,) = tgraph_win.run(['winsig.window'], replace=replace_gpu)"
   ]
  },
  {
   "cell_type": "code",
   "execution_count": 7,
   "id": "e520f92d-2495-4e60-864e-d6b618740ccb",
   "metadata": {},
   "outputs": [
    {
     "name": "stdout",
     "output_type": "stream",
     "text": [
      "910 ms ± 1.71 ms per loop (mean ± std. dev. of 7 runs, 1 loop each)\n"
     ]
    }
   ],
   "source": [
    "cpu_time = %timeit -o (cwin,) = tgraph_win.run(['winsig.window'], replace=replace_cpu)"
   ]
  },
  {
   "cell_type": "code",
   "execution_count": 8,
   "id": "3be6053c-11bd-4df5-8d80-083d90d24f74",
   "metadata": {},
   "outputs": [
    {
     "name": "stdout",
     "output_type": "stream",
     "text": [
      "SPEEDUP: 255.2x\n"
     ]
    }
   ],
   "source": [
    "print('SPEEDUP: {}x'.format(round(cpu_time.average / gpu_time.average, 1)))"
   ]
  },
  {
   "cell_type": "markdown",
   "id": "4dc62437-e509-4708-82af-50bb883e4fac",
   "metadata": {},
   "source": [
    "### Timing CuSignal Windows"
   ]
  },
  {
   "cell_type": "markdown",
   "id": "bf2ca44f-a3e3-47a5-b40d-edf14256fedf",
   "metadata": {},
   "source": [
    "Using the base taskgraph for generating a window we can use the programmatic API to profile and compare generating windows via cusignal on GPU and scipy on CPU."
   ]
  },
  {
   "cell_type": "code",
   "execution_count": 9,
   "id": "7a3193d3-a02b-4fcd-9bc2-19c821cbde5a",
   "metadata": {},
   "outputs": [
    {
     "name": "stdout",
     "output_type": "stream",
     "text": [
      "WINDOW TYPE: boxcar\n",
      "GPU TIMING\n",
      "2.07 ms ± 52.6 µs per loop (mean ± std. dev. of 7 runs, 100 loops each)\n",
      "CPU TIMING\n",
      "21.4 ms ± 61 µs per loop (mean ± std. dev. of 7 runs, 10 loops each)\n",
      "SPEEDUP: 10.3x\n",
      "\n",
      "\n",
      "WINDOW TYPE: triang\n",
      "GPU TIMING\n",
      "2.05 ms ± 8.82 µs per loop (mean ± std. dev. of 7 runs, 100 loops each)\n",
      "CPU TIMING\n",
      "70.4 ms ± 182 µs per loop (mean ± std. dev. of 7 runs, 10 loops each)\n",
      "SPEEDUP: 34.4x\n",
      "\n",
      "\n",
      "WINDOW TYPE: bohman\n",
      "GPU TIMING\n",
      "2.05 ms ± 8.12 µs per loop (mean ± std. dev. of 7 runs, 100 loops each)\n",
      "CPU TIMING\n",
      "446 ms ± 1.16 ms per loop (mean ± std. dev. of 7 runs, 1 loop each)\n",
      "SPEEDUP: 218.0x\n",
      "\n",
      "\n",
      "WINDOW TYPE: blackman\n",
      "GPU TIMING\n",
      "2.98 ms ± 8.52 µs per loop (mean ± std. dev. of 7 runs, 100 loops each)\n",
      "CPU TIMING\n",
      "525 ms ± 1.32 ms per loop (mean ± std. dev. of 7 runs, 1 loop each)\n",
      "SPEEDUP: 175.9x\n",
      "\n",
      "\n",
      "WINDOW TYPE: nuttall\n",
      "GPU TIMING\n",
      "3.03 ms ± 16.1 µs per loop (mean ± std. dev. of 7 runs, 100 loops each)\n",
      "CPU TIMING\n",
      "719 ms ± 920 µs per loop (mean ± std. dev. of 7 runs, 1 loop each)\n",
      "SPEEDUP: 237.3x\n",
      "\n",
      "\n",
      "WINDOW TYPE: blackmanharris\n",
      "GPU TIMING\n",
      "3.02 ms ± 15.3 µs per loop (mean ± std. dev. of 7 runs, 100 loops each)\n",
      "CPU TIMING\n",
      "718 ms ± 1.03 ms per loop (mean ± std. dev. of 7 runs, 1 loop each)\n",
      "SPEEDUP: 237.6x\n",
      "\n",
      "\n",
      "WINDOW TYPE: flattop\n",
      "GPU TIMING\n",
      "3.09 ms ± 26.7 µs per loop (mean ± std. dev. of 7 runs, 100 loops each)\n",
      "CPU TIMING\n",
      "936 ms ± 833 µs per loop (mean ± std. dev. of 7 runs, 1 loop each)\n",
      "SPEEDUP: 302.9x\n",
      "\n",
      "\n",
      "WINDOW TYPE: bartlett\n",
      "GPU TIMING\n",
      "2.08 ms ± 22.9 µs per loop (mean ± std. dev. of 7 runs, 100 loops each)\n",
      "CPU TIMING\n",
      "181 ms ± 216 µs per loop (mean ± std. dev. of 7 runs, 10 loops each)\n",
      "SPEEDUP: 86.9x\n",
      "\n",
      "\n",
      "WINDOW TYPE: hann\n",
      "GPU TIMING\n",
      "2.93 ms ± 20.6 µs per loop (mean ± std. dev. of 7 runs, 100 loops each)\n",
      "CPU TIMING\n",
      "338 ms ± 143 µs per loop (mean ± std. dev. of 7 runs, 1 loop each)\n",
      "SPEEDUP: 115.4x\n",
      "\n",
      "\n",
      "WINDOW TYPE: tukey\n",
      "GPU TIMING\n",
      "2.05 ms ± 8.33 µs per loop (mean ± std. dev. of 7 runs, 100 loops each)\n",
      "CPU TIMING\n",
      "138 ms ± 640 µs per loop (mean ± std. dev. of 7 runs, 10 loops each)\n",
      "SPEEDUP: 67.3x\n",
      "\n",
      "\n",
      "WINDOW TYPE: barthann\n",
      "GPU TIMING\n",
      "2.05 ms ± 15.6 µs per loop (mean ± std. dev. of 7 runs, 100 loops each)\n",
      "CPU TIMING\n",
      "317 ms ± 859 µs per loop (mean ± std. dev. of 7 runs, 1 loop each)\n",
      "SPEEDUP: 154.8x\n",
      "\n",
      "\n",
      "WINDOW TYPE: general_hamming\n",
      "GPU TIMING\n",
      "2.93 ms ± 22.2 µs per loop (mean ± std. dev. of 7 runs, 100 loops each)\n",
      "CPU TIMING\n",
      "336 ms ± 1.32 ms per loop (mean ± std. dev. of 7 runs, 1 loop each)\n",
      "SPEEDUP: 114.7x\n",
      "\n",
      "\n",
      "WINDOW TYPE: hamming\n",
      "GPU TIMING\n",
      "2.1 ms ± 12.7 µs per loop (mean ± std. dev. of 7 runs, 100 loops each)\n",
      "CPU TIMING\n",
      "338 ms ± 1.21 ms per loop (mean ± std. dev. of 7 runs, 1 loop each)\n",
      "SPEEDUP: 161.1x\n",
      "\n",
      "\n",
      "WINDOW TYPE: kaiser\n",
      "GPU TIMING\n",
      "2.05 ms ± 10.6 µs per loop (mean ± std. dev. of 7 runs, 100 loops each)\n",
      "CPU TIMING\n",
      "742 ms ± 654 µs per loop (mean ± std. dev. of 7 runs, 1 loop each)\n",
      "SPEEDUP: 361.9x\n",
      "\n",
      "\n",
      "WINDOW TYPE: gaussian\n",
      "GPU TIMING\n",
      "2.05 ms ± 16.6 µs per loop (mean ± std. dev. of 7 runs, 100 loops each)\n",
      "CPU TIMING\n",
      "208 ms ± 734 µs per loop (mean ± std. dev. of 7 runs, 1 loop each)\n",
      "SPEEDUP: 101.5x\n",
      "\n",
      "\n",
      "WINDOW TYPE: general_gaussian\n",
      "GPU TIMING\n",
      "2.08 ms ± 48.3 µs per loop (mean ± std. dev. of 7 runs, 100 loops each)\n",
      "CPU TIMING\n",
      "433 ms ± 1.37 ms per loop (mean ± std. dev. of 7 runs, 1 loop each)\n",
      "SPEEDUP: 207.9x\n",
      "\n",
      "\n",
      "WINDOW TYPE: cosine\n",
      "GPU TIMING\n",
      "2.05 ms ± 15.1 µs per loop (mean ± std. dev. of 7 runs, 100 loops each)\n",
      "CPU TIMING\n",
      "175 ms ± 379 µs per loop (mean ± std. dev. of 7 runs, 10 loops each)\n",
      "SPEEDUP: 85.3x\n",
      "\n",
      "\n",
      "WINDOW TYPE: exponential\n",
      "GPU TIMING\n",
      "2.05 ms ± 5.35 µs per loop (mean ± std. dev. of 7 runs, 100 loops each)\n",
      "CPU TIMING\n",
      "208 ms ± 622 µs per loop (mean ± std. dev. of 7 runs, 1 loop each)\n",
      "SPEEDUP: 101.6x\n",
      "\n",
      "\n"
     ]
    }
   ],
   "source": [
    "from copy import deepcopy\n",
    "\n",
    "default_params = {'M': M}  # M is defined above\n",
    "wins_map = {\n",
    "    'boxcar': {},\n",
    "    'triang': {},\n",
    "    'bohman': {},\n",
    "    'blackman': {},\n",
    "    'nuttall': {},\n",
    "    'blackmanharris': {},\n",
    "    'flattop': {},\n",
    "    'bartlett': {},\n",
    "    'hann': {},\n",
    "    'tukey': {\n",
    "        'params': {\n",
    "            'alpha': 0.5,\n",
    "            'sym': True\n",
    "        }\n",
    "    },\n",
    "    'barthann': {},\n",
    "    'general_hamming': {\n",
    "        'params': {\n",
    "            'alpha': 0.5,\n",
    "            'sym': True\n",
    "        }\n",
    "    },\n",
    "    'hamming': {},\n",
    "    'kaiser': {\n",
    "        'params': {\n",
    "            'beta': 0.5\n",
    "        }\n",
    "    },\n",
    "    'gaussian': {\n",
    "        'params': {\n",
    "            'std': 7\n",
    "        }\n",
    "    },\n",
    "    'general_gaussian': {\n",
    "        'params': {\n",
    "            'p': 1.5,\n",
    "            'sig': 7,  # for older API\n",
    "        }\n",
    "    },\n",
    "    'cosine': {},\n",
    "    'exponential': {\n",
    "        'params': {\n",
    "            'tau': 3.0\n",
    "        }\n",
    "    }\n",
    "}\n",
    "\n",
    "for wintype, winconf in wins_map.items():\n",
    "    win_params = default_params.copy()\n",
    "    win_params['window_type'] = wintype\n",
    "    win_params.update(winconf.get('params', {}))\n",
    "    replace_gpu = {\n",
    "        'winsig': {\n",
    "            TaskSpecSchema.conf: win_params,\n",
    "        }\n",
    "    }\n",
    "    replace_cpu = deepcopy(replace_gpu)\n",
    "    replace_cpu['winsig'][TaskSpecSchema.conf]['use_cpu'] = True\n",
    "    print('WINDOW TYPE: {}'.format(wintype))\n",
    "    print('GPU TIMING')\n",
    "    tgraph_win.build(replace=replace_gpu)\n",
    "    gpu_time = %timeit -o (gwin,) = tgraph_win.run(['winsig.window'], build=False)\n",
    "    print('CPU TIMING')\n",
    "    tgraph_win.build(replace=replace_cpu)\n",
    "    cpu_time = %timeit -o (cwin,) = tgraph_win.run(['winsig.window'], build=False)\n",
    "    print('SPEEDUP: {}x'.format(round(cpu_time.average / gpu_time.average, 1)))\n",
    "    print('\\n')\n",
    "\n",
    "# reset tgraph build\n",
    "tgraph_win.build()"
   ]
  },
  {
   "cell_type": "code",
   "execution_count": null,
   "id": "e829e95b-f25d-40a4-b301-00a9f2b39243",
   "metadata": {},
   "outputs": [],
   "source": []
  }
 ],
 "metadata": {
  "kernelspec": {
   "display_name": "Python 3",
   "language": "python",
   "name": "python3"
  },
  "language_info": {
   "codemirror_mode": {
    "name": "ipython",
    "version": 3
   },
   "file_extension": ".py",
   "mimetype": "text/x-python",
   "name": "python",
   "nbconvert_exporter": "python",
   "pygments_lexer": "ipython3",
   "version": "3.8.10"
  }
 },
 "nbformat": 4,
 "nbformat_minor": 5
}
