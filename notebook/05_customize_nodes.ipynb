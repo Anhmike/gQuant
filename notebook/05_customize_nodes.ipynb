{
 "cells": [
  {
   "cell_type": "markdown",
   "metadata": {},
   "source": [
    "### Customize your own GPU Kernels in gquant\n",
    "\n",
    "The gquant framework is designed to accelerate quantitive finance workflows on the GPU. The acceleration on GPU is facilitated by using cuDF dataframes in the computation graph. The cuDF project is a continously evolving library that provides a pandas-like API. When the quantitative work needs customized logic to manipulate the data, and there are no direct methods within cuDF to support this logic, one solution is to build customized GPU kernels to implement them.\n",
    "\n",
    "The code and examples below illustrate a variety of approaches to implement customized GPU kernels in Python."
   ]
  },
  {
   "cell_type": "code",
   "execution_count": 1,
   "metadata": {},
   "outputs": [],
   "source": [
    "# Load necessary Python modules\n",
    "import sys\n",
    "from gquant.dataframe_flow import run, viz_graph, Node\n",
    "import nxpd\n",
    "import cudf\n",
    "import numpy as np\n",
    "from nxpd import draw\n",
    "from numba import cuda\n",
    "import cupy\n",
    "import math\n",
    "import dask\n",
    "import dask_cudf"
   ]
  },
  {
   "cell_type": "markdown",
   "metadata": {},
   "source": [
    "Define a utility function to verify the results:"
   ]
  },
  {
   "cell_type": "code",
   "execution_count": 2,
   "metadata": {},
   "outputs": [],
   "source": [
    "def verify(ground_truth, computed):\n",
    "    max_difference = (ground_truth - computed).abs().max()\n",
    "    # print('Max Difference: {}'.format(max_difference))\n",
    "    assert(max_difference < 1e-8)\n",
    "    return max_difference"
   ]
  },
  {
   "cell_type": "markdown",
   "metadata": {},
   "source": [
    "### Example Problem: Calculating the distance of points to the origin\n",
    "\n",
    "The sample problem is to take a list of points in 2-D space and compute their distance to the origin.\n",
    "We start by creating a source `Node` in the graph that generate a cuDF dataframe containing 1000 random points."
   ]
  },
  {
   "cell_type": "code",
   "execution_count": 3,
   "metadata": {},
   "outputs": [],
   "source": [
    "class PointNode(Node):\n",
    "\n",
    "    def columns_setup(self,):\n",
    "        self.required = {}\n",
    "        self.addition = {'x': 'float64',\n",
    "                         'y': 'float64'}\n",
    "\n",
    "    def process(self, inputs):\n",
    "        df = cudf.DataFrame()\n",
    "        df['x'] = np.random.rand(1000)\n",
    "        df['y'] = np.random.rand(1000)\n",
    "        return df"
   ]
  },
  {
   "cell_type": "markdown",
   "metadata": {},
   "source": [
    "The distance can be computed via cuDF methods. We define the DistanceNode to calculate the distance and add a `distance_cudf` column to the output dataframe. We use that as the ground truth to compare and verify results later."
   ]
  },
  {
   "cell_type": "code",
   "execution_count": 4,
   "metadata": {},
   "outputs": [],
   "source": [
    "class DistanceNode(Node):\n",
    "\n",
    "    def columns_setup(self,):\n",
    "        self.required = {'x': 'float64',\n",
    "                         'y': 'float64'}\n",
    "        self.addition = {'distance_cudf': 'float64'}\n",
    "\n",
    "    def process(self, inputs):\n",
    "        df = inputs[0]\n",
    "        df['distance_cudf'] = (df['x']**2 + df['y']**2).sqrt()\n",
    "        return df"
   ]
  },
  {
   "cell_type": "markdown",
   "metadata": {},
   "source": [
    "Having these two nodes, we can construct a simple task graph to compute the distance."
   ]
  },
  {
   "cell_type": "code",
   "execution_count": 5,
   "metadata": {},
   "outputs": [
    {
     "data": {
      "image/png": "[encoded data removed]",
      "text/plain": [
       "<IPython.core.display.Image object>"
      ]
     },
     "execution_count": 5,
     "metadata": {},
     "output_type": "execute_result"
    }
   ],
   "source": [
    "input_node = {\n",
    "    'id': 'points',\n",
    "    'type': PointNode,\n",
    "    'conf': {},\n",
    "    'inputs': []}\n",
    "\n",
    "cudf_distance_node = {\n",
    "    'id': 'distance_by_cudf',\n",
    "    'type': DistanceNode,\n",
    "    'conf': {},\n",
    "    'inputs': ['points']}\n",
    "\n",
    "task_list = [input_node, cudf_distance_node]\n",
    "task_graph = viz_graph(task_list)\n",
    "draw(task_graph, show='ipynb')"
   ]
  },
  {
   "cell_type": "markdown",
   "metadata": {},
   "source": [
    "The next step is to run the task graph to obtain the distances. The output is identified by the `id` of the distance node:"
   ]
  },
  {
   "cell_type": "code",
   "execution_count": 6,
   "metadata": {},
   "outputs": [
    {
     "name": "stdout",
     "output_type": "stream",
     "text": [
      "                     x                    y       distance_cudf\n",
      "0   0.6723520442470782   0.9852608399140459    1.19281020873874\n",
      "1  0.17910433988109542   0.5148459667925289  0.5451098367180478\n",
      "2   0.5257041049202444  0.10985072301370735  0.5370586441689861\n",
      "3  0.26735267785465155   0.5926111721129101  0.6501272611336109\n",
      "4   0.9506848567426767   0.6139323276570774  1.1316866173028117\n",
      "5  0.28852689302050794   0.5020580364068686  0.5790596168934493\n",
      "6   0.5348492125065254   0.8500743192319166   1.004335615387833\n",
      "7   0.6109030362226028  0.46907622241986024  0.7702175160989789\n",
      "8   0.4527043048265347   0.6433244451659434  0.7866432033371579\n",
      "9  0.04191743601279396   0.9407673034333391   0.941700690586517\n",
      "[990 more rows]\n"
     ]
    }
   ],
   "source": [
    "(out_df,) = run(task_list, outputs=['distance_by_cudf'])\n",
    "print(out_df)"
   ]
  },
  {
   "cell_type": "markdown",
   "metadata": {},
   "source": [
    "### Customized Kernel with Numba library\n",
    "\n",
    "Numba is an excellent python library used for accelerating numerical computations. Numba supports CUDA GPU programming by directly compiling a restricted subset of Python code into CUDA kernels and device functions. The Numba GPU kernel is written in Python and translated (JIT just-in-time compiled) into GPU code at runtime. This is achieved by decorating a Python function with `@cuda.jit`."
   ]
  },
  {
   "cell_type": "code",
   "execution_count": 7,
   "metadata": {},
   "outputs": [],
   "source": [
    "@cuda.jit\n",
    "def distance_kernel(x, y, distance, array_len):\n",
    "    # ii - overall thread index\n",
    "    ii = cuda.threadIdx.x + cuda.blockIdx.x * cuda.blockDim.x\n",
    "    if ii < array_len:\n",
    "        distance[ii] = math.sqrt(x[ii]**2 + y[ii]**2)"
   ]
  },
  {
   "cell_type": "markdown",
   "metadata": {},
   "source": [
    "A cuDF series can be converted to GPU arrays compatible with the Numba library via `to_gpu_array` API. The next step is to define a Node that calls this Numba kernel to compute the distance and save the result into `distance_numba` column in the output dataframe."
   ]
  },
  {
   "cell_type": "code",
   "execution_count": 8,
   "metadata": {},
   "outputs": [],
   "source": [
    "from librmm_cffi import librmm as rmm\n",
    "\n",
    "\n",
    "class NumbaDistanceNode(Node):\n",
    "\n",
    "    def columns_setup(self,):\n",
    "        self.required = {'x': 'float64',\n",
    "                         'y': 'float64'}\n",
    "        self.addition = {'distance_numba': 'float64'}\n",
    "        self.delayed_process = True\n",
    "\n",
    "    def process(self, inputs):\n",
    "        df = inputs[0]\n",
    "        number_of_threads = 16\n",
    "        number_of_blocks = ((len(df) - 1)//number_of_threads) + 1\n",
    "        # Inits device array by setting 0 for each index.\n",
    "        # df['distance_numba'] = 0.0\n",
    "        # darr = rmm.device_array(len(df))\n",
    "        darr = cuda.device_array(len(df))\n",
    "        distance_kernel[(number_of_blocks,), (number_of_threads,)](\n",
    "            df['x'].to_gpu_array(),\n",
    "            df['y'].to_gpu_array(),\n",
    "            darr,\n",
    "            len(df))\n",
    "        # df['distance_numba'].to_gpu_array()\n",
    "        df['distance_numba'] = darr\n",
    "        return df"
   ]
  },
  {
   "cell_type": "markdown",
   "metadata": {},
   "source": [
    "The `self.delayed_process = True` flag in the `columns_setup` is necesary to enable the logic in the `Node` class for handling `dask_cudf` dataframes in order to use Dask (for distributed computation i.e. multi-gpu in examples later on). The `dask_cudf` dataframe does not support GPU customized kernels directly. The `to_delayed` and `from_delayed` low level interfaces of `dask_cudf` enable this support. The gquant framework handles `dask_cudf` dataframes automatically under the hood when we set this flag."
   ]
  },
  {
   "cell_type": "markdown",
   "metadata": {},
   "source": [
    "### Customized Kernel by CuPy library\n",
    "\n",
    "CuPy is an alternative to Numba. Numba JIT compiles Python code into GPU device code at runtime. There are some limitations in how Numba can be used as well as JIT compilation latency overhead. When a Python process calls a Numba GPU kernel for the first time Numba has to compile the Python code, and each time a new Python process is started the GPU kernel has to be recompiled. If advanced features of CUDA are needed and latency is important, CuPy is an alternative library that can be used to compile C/C++ CUDA code. CuPy caches the GPU device code on disk (default location `$(HOME)/.cupy/kernel_cache` which can be changed via `CUPY_CACHE_DIR` environment variable) thus eliminating compilation latency for subsequent Python processes.\n",
    "\n",
    "`CuPy` GPU kernel is esentially a C/C++ GPU kernel. Below we define the `compute_distance` kernel using `CuPy`:"
   ]
  },
  {
   "cell_type": "code",
   "execution_count": 9,
   "metadata": {},
   "outputs": [],
   "source": [
    "raw_kernel = cupy.RawKernel(r'''\n",
    "    extern \"C\" __global__\n",
    "    void compute_distance(const double* x, const double* y,\n",
    "            double* distance, int arr_len) {\n",
    "        int tid = blockDim.x * blockIdx.x + threadIdx.x;\n",
    "        if (tid < arr_len){\n",
    "        distance[tid] = sqrt(x[tid]*x[tid] + y[tid]*y[tid]);\n",
    "        }\n",
    "    }\n",
    "''', 'compute_distance')"
   ]
  },
  {
   "cell_type": "markdown",
   "metadata": {},
   "source": [
    "Using gquant we can now define a Node that calls this CuPy kernel to compute the distance and save the results into `distance_cupy` column of a `cudf` dataframe."
   ]
  },
  {
   "cell_type": "code",
   "execution_count": 10,
   "metadata": {},
   "outputs": [],
   "source": [
    "class CupyDistanceNode(Node):\n",
    "\n",
    "    def columns_setup(self,):\n",
    "        self.required = {'x': 'float64',\n",
    "                         'y': 'float64'}\n",
    "        self.addition = {'distance_cupy': 'float64'}\n",
    "        self.delayed_process = True\n",
    "\n",
    "    def process(self, inputs):\n",
    "        df = inputs[0]\n",
    "        # cupy_x = cupy.asarray(df['x'].to_gpu_array())\n",
    "        # cupy_y = cupy.asarray(df['y'].to_gpu_array())\n",
    "        cupy_x = cupy.asarray(df['x'])\n",
    "        cupy_y = cupy.asarray(df['y'])\n",
    "        number_of_threads = 16\n",
    "        number_of_blocks = (len(df) - 1)//number_of_threads + 1\n",
    "        dis = cupy.ndarray(len(df), dtype=cupy.float64)\n",
    "        raw_kernel((number_of_blocks,), (number_of_threads,),\n",
    "                   (cupy_x, cupy_y, dis, len(df)))\n",
    "        df['distance_cupy'] = dis\n",
    "        return df"
   ]
  },
  {
   "cell_type": "markdown",
   "metadata": {},
   "source": [
    "The `self.delayed_process = True` flag is added for the same reason as with `DistanceNumbaNode` i.e. to support `dask_cudf` data frames."
   ]
  },
  {
   "cell_type": "markdown",
   "metadata": {},
   "source": [
    "### Computing using the Nodes with customized GPU kernels\n",
    "\n",
    "First we construct the computation graph for gquant."
   ]
  },
  {
   "cell_type": "code",
   "execution_count": 11,
   "metadata": {},
   "outputs": [
    {
     "data": {
      "image/png": "[encoded data removed]",
      "text/plain": [
       "<IPython.core.display.Image object>"
      ]
     },
     "execution_count": 11,
     "metadata": {},
     "output_type": "execute_result"
    }
   ],
   "source": [
    "numba_distance_node = {\n",
    "    'id': 'distance_by_numba',\n",
    "    'type': NumbaDistanceNode,\n",
    "    'conf': {},\n",
    "    'inputs': ['points']\n",
    "}\n",
    "\n",
    "cupy_distance_node = {\n",
    "    'id': 'distance_by_cupy',\n",
    "    'type': CupyDistanceNode,\n",
    "    'conf': {},\n",
    "    'inputs': ['points']\n",
    "}\n",
    "\n",
    "task_list = [input_node, numba_distance_node,\n",
    "             cupy_distance_node, cudf_distance_node]\n",
    "out_list = ['distance_by_numba', 'distance_by_cupy', 'distance_by_cudf']\n",
    "task_graph = viz_graph(task_list)\n",
    "draw(task_graph, show='ipynb')"
   ]
  },
  {
   "cell_type": "markdown",
   "metadata": {},
   "source": [
    "Then we run the tasks."
   ]
  },
  {
   "cell_type": "code",
   "execution_count": 12,
   "metadata": {},
   "outputs": [],
   "source": [
    "df_w_numba, df_w_cupy, df_w_cudf = run(task_list, out_list)"
   ]
  },
  {
   "cell_type": "markdown",
   "metadata": {},
   "source": [
    "Use `verify` function defined above to verify the results:"
   ]
  },
  {
   "cell_type": "code",
   "execution_count": 13,
   "metadata": {},
   "outputs": [
    {
     "name": "stdout",
     "output_type": "stream",
     "text": [
      "Max Difference: 2.220446049250313e-16\n",
      "Max Difference: 2.220446049250313e-16\n"
     ]
    }
   ],
   "source": [
    "mdiff = verify(df_w_cudf['distance_cudf'], df_w_numba['distance_numba'])\n",
    "print('Max Difference: {}'.format(mdiff))\n",
    "mdiff = verify(df_w_cudf['distance_cudf'], df_w_cupy['distance_cupy'])\n",
    "print('Max Difference: {}'.format(mdiff))"
   ]
  },
  {
   "cell_type": "markdown",
   "metadata": {},
   "source": [
    "### Dask distributed computation\n",
    "\n",
    "Using Dask and `dask-cudf` we can run the Nodes with customized GPU kernels on distributed dataframes. Under the hood of the `Node` class the Dask delayed processing API is handled for cudf dataframes when the `self.delayed_process = True` flag is set.\n",
    "\n",
    "We first start a distributed Dask environment. When a dask client is instantiated it registers itself as the default Dask scheduler (<http://distributed.dask.org/en/latest/client.html>). Therefore all subsequent Dask distibuted dataframe operations will run in distributed fashion."
   ]
  },
  {
   "cell_type": "code",
   "execution_count": 14,
   "metadata": {},
   "outputs": [
    {
     "data": {
      "text/html": [
       "<table style=\"border: 2px solid white;\">\n",
       "<tr>\n",
       "<td style=\"vertical-align: top; border: 0px solid white\">\n",
       "<h3>Client</h3>\n",
       "<ul>\n",
       "  <li><b>Scheduler: </b>tcp://127.0.0.1:36065\n",
       "  <li><b>Dashboard: </b><a href='http://127.0.0.1:8787/status' target='_blank'>http://127.0.0.1:8787/status</a>\n",
       "</ul>\n",
       "</td>\n",
       "<td style=\"vertical-align: top; border: 0px solid white\">\n",
       "<h3>Cluster</h3>\n",
       "<ul>\n",
       "  <li><b>Workers: </b>2</li>\n",
       "  <li><b>Cores: </b>2</li>\n",
       "  <li><b>Memory: </b>135.17 GB</li>\n",
       "</ul>\n",
       "</td>\n",
       "</tr>\n",
       "</table>"
      ],
      "text/plain": [
       "<Client: scheduler='tcp://127.0.0.1:36065' processes=2 cores=2>"
      ]
     },
     "execution_count": 14,
     "metadata": {},
     "output_type": "execute_result"
    }
   ],
   "source": [
    "from dask_cuda import LocalCUDACluster\n",
    "cluster = LocalCUDACluster()\n",
    "from dask.distributed import Client\n",
    "client = Client(cluster)\n",
    "client"
   ]
  },
  {
   "cell_type": "markdown",
   "metadata": {},
   "source": [
    "The Dask status page can be displayed in a web browser at `<ip-address>:8787`. The ip-address corresponds to the machine where the dask cluster (scheduler) was launched. Most likely same ip-address as where this jupyter notebook is running. The javascript cell below will launch the dask status page otherwise manually go to the status page <http://distributed.dask.org/en/latest/web.html>. Using the Dask status page is convenient for monitoring dask distributed processing."
   ]
  },
  {
   "cell_type": "code",
   "execution_count": 15,
   "metadata": {},
   "outputs": [
    {
     "data": {
      "text/html": [
       "\n",
       "<script type=\"text/Javascript\">\n",
       "    function check_status(){\n",
       "        var url = document.location.href;\n",
       "        var index = url.indexOf(':8888');\n",
       "        var status = url.substr(0, index)+\":8787\";\n",
       "        window.open(status,'_blank');\n",
       "    }\n",
       "    check_status();\n",
       "</script>\n"
      ],
      "text/plain": [
       "<IPython.core.display.HTML object>"
      ]
     },
     "execution_count": 15,
     "metadata": {},
     "output_type": "execute_result"
    }
   ],
   "source": [
    "from IPython.display import HTML\n",
    "javascript = \"\"\"\n",
    "<script type=\"text/Javascript\">\n",
    "    function check_status(){\n",
    "        var url = document.location.href;\n",
    "        var index = url.indexOf(':8888');\n",
    "        var status = url.substr(0, index)+\":8787\";\n",
    "        window.open(status,'_blank');\n",
    "    }\n",
    "    check_status();\n",
    "</script>\n",
    "\"\"\"\n",
    "HTML(javascript)"
   ]
  },
  {
   "cell_type": "markdown",
   "metadata": {},
   "source": [
    "The next step is to partition the `cudf` dataframe into a `dask_cudf` dataframe. Here we make the number of partitions correspond to the number of workers:"
   ]
  },
  {
   "cell_type": "code",
   "execution_count": 16,
   "metadata": {},
   "outputs": [],
   "source": [
    "class DistributedNode(Node):\n",
    "\n",
    "    def columns_setup(self,):\n",
    "        self.required = {'x': 'float64',\n",
    "                         'y': 'float64'}\n",
    "\n",
    "    def process(self, inputs):\n",
    "        npartitions = self.conf['npartitions']\n",
    "        df = inputs[0]        \n",
    "        return dask_cudf.from_cudf(df, npartitions=npartitions)"
   ]
  },
  {
   "cell_type": "markdown",
   "metadata": {},
   "source": [
    "We add this distribution node to the computation graph to convert `cudf` dataframes into `dask-cudf` dataframes."
   ]
  },
  {
   "cell_type": "code",
   "execution_count": 17,
   "metadata": {},
   "outputs": [
    {
     "data": {
      "image/png": "[encoded data removed]",
      "text/plain": [
       "<IPython.core.display.Image object>"
      ]
     },
     "execution_count": 17,
     "metadata": {},
     "output_type": "execute_result"
    }
   ],
   "source": [
    "npartitions = len(client.scheduler_info()['workers'])\n",
    "\n",
    "input_node = {\n",
    "    'id': 'points',\n",
    "    'type': PointNode,\n",
    "    'conf': {},\n",
    "    'inputs': []\n",
    "}\n",
    "\n",
    "distributed_node = {\n",
    "    'id': 'distributed_points',\n",
    "    'type': DistributedNode,\n",
    "    'conf': {'npartitions': npartitions},\n",
    "    'inputs': [\"points\"]\n",
    "}\n",
    "\n",
    "cudf_distance_node = {\n",
    "    'id': 'distance_by_cudf',\n",
    "    'type': DistanceNode,\n",
    "    'conf': {},\n",
    "    'inputs': ['points']\n",
    "}\n",
    "\n",
    "numba_distance_node = {\n",
    "    'id': 'distance_by_numba',\n",
    "    'type': NumbaDistanceNode,\n",
    "    'conf': {},\n",
    "    'inputs': ['distributed_points']\n",
    "}\n",
    "\n",
    "cupy_distance_node = {\n",
    "    'id': 'distance_by_cupy',\n",
    "    'type': CupyDistanceNode,\n",
    "    'conf': {},\n",
    "    'inputs': ['distributed_points']\n",
    "}\n",
    "\n",
    "task_list = [input_node, distributed_node, cudf_distance_node,\n",
    "             numba_distance_node, cupy_distance_node]\n",
    "out_list = ['distance_by_numba', 'distance_by_cupy', 'distance_by_cudf']\n",
    "task_graph = viz_graph(task_list)\n",
    "draw(task_graph, show='ipynb')"
   ]
  },
  {
   "cell_type": "code",
   "execution_count": 18,
   "metadata": {},
   "outputs": [],
   "source": [
    "df_w_numba, df_w_cupy, df_w_cudf = run(task_list, out_list)\n",
    "df_w_numba = df_w_numba.compute()\n",
    "df_w_cupy = df_w_cupy.compute()"
   ]
  },
  {
   "cell_type": "markdown",
   "metadata": {},
   "source": [
    "Verify the results:"
   ]
  },
  {
   "cell_type": "code",
   "execution_count": 19,
   "metadata": {},
   "outputs": [
    {
     "name": "stdout",
     "output_type": "stream",
     "text": [
      "Max Difference: 2.220446049250313e-16\n",
      "Max Difference: 2.220446049250313e-16\n"
     ]
    }
   ],
   "source": [
    "mdiff = verify(df_w_cudf['distance_cudf'], df_w_numba['distance_numba'])\n",
    "print('Max Difference: {}'.format(mdiff))\n",
    "mdiff = verify(df_w_cudf['distance_cudf'], df_w_cupy['distance_cupy'])\n",
    "print('Max Difference: {}'.format(mdiff))"
   ]
  },
  {
   "cell_type": "markdown",
   "metadata": {},
   "source": [
    "One limitation to be aware of when using customized kernels within Nodes in the Dask environment, is that each GPU kernel works on one partition of the dataframe. Therefore if the computation depends on other partitions of the dataframe the approach above does not work."
   ]
  },
  {
   "cell_type": "markdown",
   "metadata": {},
   "source": [
    "### Saving Custom Nodes and Kernels\n",
    "\n",
    "The gquant framework already implements a number of Nodes. These can be found in `gquant.plugin_nodes` submodules. Refer to those nodes for reference implementations. For example:"
   ]
  },
  {
   "cell_type": "code",
   "execution_count": 20,
   "metadata": {},
   "outputs": [
    {
     "name": "stdout",
     "output_type": "stream",
     "text": [
      "class CsvStockLoader(Node):\n",
      "\n",
      "    def columns_setup(self):\n",
      "        self.required = {}\n",
      "        self.addition = {\"datetime\": \"datetime64[ms]\",\n",
      "                         \"asset\": \"int64\",\n",
      "                         \"volume\": \"float64\",\n",
      "                         \"close\": \"float64\",\n",
      "                         \"open\": \"float64\",\n",
      "                         \"high\": \"float64\",\n",
      "                         \"low\": \"float64\"}\n",
      "        self.deletion = None\n",
      "        self.retention = None\n",
      "\n",
      "    def process(self, inputs):\n",
      "        \"\"\"\n",
      "        Load the end of day stock CSV data into cuDF dataframe\n",
      "\n",
      "        Arguments\n",
      "        -------\n",
      "         inputs: list\n",
      "             empty list\n",
      "        Returns\n",
      "        -------\n",
      "        cudf.DataFrame\n",
      "        \"\"\"\n",
      "\n",
      "        df = pd.read_csv(self.conf['path'],\n",
      "                         converters={'DTE': lambda x: pd.Timestamp(str(x))})\n",
      "        df = df[['DTE', 'OPEN',\n",
      "                 'CLOSE', 'HIGH',\n",
      "                 'LOW', 'SM_ID', 'VOLUME']]\n",
      "        df['VOLUME'] /= 1000\n",
      "        output = cudf.from_pandas(df)\n",
      "        # change the names\n",
      "        output.columns = ['datetime', 'open', 'close', 'high',\n",
      "                          'low', \"asset\", 'volume']\n",
      "        return output\n",
      "\n"
     ]
    }
   ],
   "source": [
    "import inspect\n",
    "from gquant.plugin_nodes.dataloader import CsvStockLoader\n",
    "\n",
    "print(inspect.getsource(CsvStockLoader))"
   ]
  },
  {
   "cell_type": "markdown",
   "metadata": {},
   "source": [
    "The customized kernels and nodes can be saved to your own python modules for future re-use instead of having to re-define them at runtime. We will take the nodes we defined above and write them to a python module. Then we will re-run our workflow importing the Nodes from the custom module we wrote out."
   ]
  },
  {
   "cell_type": "code",
   "execution_count": 21,
   "metadata": {},
   "outputs": [
    {
     "name": "stdout",
     "output_type": "stream",
     "text": [
      "Overwriting custom_nodes.py\n"
     ]
    }
   ],
   "source": [
    "%%writefile custom_nodes.py\n",
    "\n",
    "import math\n",
    "import numpy as np\n",
    "from numba import cuda\n",
    "import cupy\n",
    "import cudf\n",
    "import dask_cudf\n",
    "\n",
    "from gquant.dataframe_flow import Node\n",
    "# from librmm_cffi import librmm as rmm\n",
    "\n",
    "\n",
    "class PointNode(Node):\n",
    "\n",
    "    def columns_setup(self,):\n",
    "        self.required = {}\n",
    "        self.addition = {'x': 'float64',\n",
    "                         'y': 'float64'}\n",
    "\n",
    "    def process(self, inputs):\n",
    "        df = cudf.DataFrame()\n",
    "        df['x'] = np.random.rand(1000)\n",
    "        df['y'] = np.random.rand(1000)\n",
    "        return df\n",
    "\n",
    "\n",
    "class DistanceNode(Node):\n",
    "\n",
    "    def columns_setup(self,):\n",
    "        self.required = {'x': 'float64',\n",
    "                         'y': 'float64'}\n",
    "        self.addition = {'distance_cudf': 'float64'}\n",
    "\n",
    "    def process(self, inputs):\n",
    "        df = inputs[0]\n",
    "        df['distance_cudf'] = (df['x']**2 + df['y']**2).sqrt()\n",
    "        return df\n",
    "\n",
    "\n",
    "@cuda.jit\n",
    "def distance_kernel(x, y, distance, array_len):\n",
    "    # ii - overall thread index\n",
    "    ii = cuda.threadIdx.x + cuda.blockIdx.x * cuda.blockDim.x\n",
    "    if ii < array_len:\n",
    "        distance[ii] = math.sqrt(x[ii]**2 + y[ii]**2)\n",
    "\n",
    "\n",
    "class NumbaDistanceNode(Node):\n",
    "\n",
    "    def columns_setup(self,):\n",
    "        self.required = {'x': 'float64',\n",
    "                         'y': 'float64'}\n",
    "        self.addition = {'distance_numba': 'float64'}\n",
    "        self.delayed_process = True\n",
    "\n",
    "    def process(self, inputs):\n",
    "        df = inputs[0]\n",
    "        number_of_threads = 16\n",
    "        number_of_blocks = ((len(df) - 1)//number_of_threads) + 1\n",
    "        # Inits device array by setting 0 for each index.\n",
    "        # df['distance_numba'] = 0.0\n",
    "        darr = cuda.device_array(len(df))\n",
    "        distance_kernel[(number_of_blocks,), (number_of_threads,)](\n",
    "            df['x'].to_gpu_array(),\n",
    "            df['y'].to_gpu_array(),\n",
    "            darr,\n",
    "            len(df))\n",
    "        df['distance_numba'] = darr\n",
    "        return df\n",
    "\n",
    "\n",
    "raw_kernel = cupy.RawKernel(r'''\n",
    "    extern \"C\" __global__\n",
    "    void compute_distance(const double* x, const double* y,\n",
    "            double* distance, int arr_len) {\n",
    "        int tid = blockDim.x * blockIdx.x + threadIdx.x;\n",
    "        if (tid < arr_len){\n",
    "        distance[tid] = sqrt(x[tid]*x[tid] + y[tid]*y[tid]);\n",
    "        }\n",
    "    }\n",
    "''', 'compute_distance')\n",
    "\n",
    "\n",
    "class CupyDistanceNode(Node):\n",
    "\n",
    "    def columns_setup(self,):\n",
    "        self.required = {'x': 'float64',\n",
    "                         'y': 'float64'}\n",
    "        self.addition = {'distance_cupy': 'float64'}\n",
    "        self.delayed_process = True\n",
    "\n",
    "    def process(self, inputs):\n",
    "        df = inputs[0]\n",
    "        # cupy_x = cupy.asarray(df['x'].to_gpu_array())\n",
    "        # cupy_y = cupy.asarray(df['y'].to_gpu_array())\n",
    "        cupy_x = cupy.asarray(df['x'])\n",
    "        cupy_y = cupy.asarray(df['y'])\n",
    "        number_of_threads = 16\n",
    "        number_of_blocks = ((len(df) - 1)//number_of_threads) + 1\n",
    "        dis = cupy.ndarray(len(df), dtype=cupy.float64)\n",
    "        raw_kernel((number_of_blocks,), (number_of_threads,),\n",
    "                   (cupy_x, cupy_y, dis, len(df)))\n",
    "        df['distance_cupy'] = dis\n",
    "        return df\n",
    "\n",
    "\n",
    "class DistributedNode(Node):\n",
    "\n",
    "    def columns_setup(self,):\n",
    "        self.required = {'x': 'float64',\n",
    "                         'y': 'float64'}\n",
    "\n",
    "    def process(self, inputs):\n",
    "        npartitions = self.conf['npartitions']\n",
    "        df = inputs[0]\n",
    "        return dask_cudf.from_cudf(df, npartitions=npartitions)\n"
   ]
  },
  {
   "cell_type": "markdown",
   "metadata": {},
   "source": [
    "When defining the tasks we specify `filepath` for the path to the python module that has the Node definition. Notice, that the `type` is specified as a string instead of class. The string is the class name of the node that will be imported for running a task."
   ]
  },
  {
   "cell_type": "code",
   "execution_count": 22,
   "metadata": {},
   "outputs": [
    {
     "data": {
      "image/png": "[encoded data removed]",
      "text/plain": [
       "<IPython.core.display.Image object>"
      ]
     },
     "execution_count": 22,
     "metadata": {},
     "output_type": "execute_result"
    }
   ],
   "source": [
    "npartitions = len(client.scheduler_info()['workers'])\n",
    "\n",
    "input_node = {\n",
    "    'id': 'points',\n",
    "    'type': 'PointNode',\n",
    "    'conf': {},\n",
    "    'inputs': [],\n",
    "    'filepath': 'custom_nodes.py'\n",
    "}\n",
    "\n",
    "distributed_node = {\n",
    "    'id': 'distributed_points',\n",
    "    'type': 'DistributedNode',\n",
    "    'conf': {'npartitions': npartitions},\n",
    "    'inputs': ['points'],\n",
    "    'filepath': 'custom_nodes.py'\n",
    "}\n",
    "\n",
    "cudf_distance_node = {\n",
    "    'id': 'distance_by_cudf',\n",
    "    'type': 'DistanceNode',\n",
    "    'conf': {},\n",
    "    'inputs': ['points'],\n",
    "    'filepath': 'custom_nodes.py'\n",
    "}\n",
    "\n",
    "numba_distance_node = {\n",
    "    'id': 'distance_by_numba',\n",
    "    'type': 'NumbaDistanceNode',\n",
    "    'conf': {},\n",
    "    'inputs': ['distributed_points'],\n",
    "    'filepath': 'custom_nodes.py'\n",
    "}\n",
    "\n",
    "cupy_distance_node = {\n",
    "    'id': 'distance_by_cupy',\n",
    "    'type': 'CupyDistanceNode',\n",
    "    'conf': {},\n",
    "    'inputs': ['distributed_points'],\n",
    "    'filepath': 'custom_nodes.py'\n",
    "}\n",
    "\n",
    "task_list = [input_node, distributed_node, cudf_distance_node,\n",
    "             numba_distance_node, cupy_distance_node]\n",
    "out_list = ['distance_by_numba', 'distance_by_cupy', 'distance_by_cudf']\n",
    "task_graph = viz_graph(task_list)\n",
    "draw(task_graph, show='ipynb')"
   ]
  },
  {
   "cell_type": "code",
   "execution_count": 23,
   "metadata": {},
   "outputs": [
    {
     "name": "stdout",
     "output_type": "stream",
     "text": [
      "Max Difference: 2.220446049250313e-16\n",
      "Max Difference: 2.220446049250313e-16\n"
     ]
    }
   ],
   "source": [
    "df_w_numba, df_w_cupy, df_w_cudf = run(task_list, out_list)\n",
    "df_w_numba = df_w_numba.compute()\n",
    "df_w_cupy = df_w_cupy.compute()\n",
    "\n",
    "mdiff = verify(df_w_cudf['distance_cudf'], df_w_numba['distance_numba'])\n",
    "print('Max Difference: {}'.format(mdiff))\n",
    "mdiff = verify(df_w_cudf['distance_cudf'], df_w_cupy['distance_cupy'])\n",
    "print('Max Difference: {}'.format(mdiff))"
   ]
  },
  {
   "cell_type": "markdown",
   "metadata": {},
   "source": [
    "### Conclusion\n",
    "\n",
    "Using customized GPU kernels allows data scientists to implement and incorporate advanced algorithms. We demonstrated implementations using Numba and CuPy.\n",
    "\n",
    "The Numba approach enables data scientists to write GPU kernels directly in the Python language. Numba is easy to use for implementing and accelerating computations. However there is some overhead incurred for compiling the kernels whenever the Numba GPU kernels are used for the first time in a Python process. Currently Numba library only supports primitive data types. Some advanced CUDA programming features, such as function pointers and function recursions are not supported. \n",
    "\n",
    "The Cupy method is very flexible, because data scientists are writing C/C++ GPU kernels with CUDA directly. All the CUDA programming features are supported. CuPy compiles the kernel and caches the device code to the filesystem. The launch overhead is low. Also, the GPU kernel is built statically resulting in runtime efficiency. However it might be harder for data scientists to use, because C/C++ programming is more complicated. \n",
    "\n",
    "Below is a brief summary comparison table:\n",
    "\n",
    "| Methods | Development Difficulty | Flexibility | Efficiency | Lattency |\n",
    "|---|---|---|---|---|\n",
    "| Numba method | medium | medium | low | high |\n",
    "| CuPy method | hard | high  | high | low |\n",
    "\n",
    "We recommend that the data scientists select the approach appropriate for their task taking into consideration the efficiency, latency, difficulty and flexibility of their workflow. \n",
    "\n",
    "In this blog, we showed how to wrap the customized GPU kernels in gquant nodes. Also, by taking advantage of having the gquant handle the low-level Dask interfaces for the developer, we demonstrated how to use the gquant workflow with Dask distributed computations."
   ]
  },
  {
   "cell_type": "code",
   "execution_count": 24,
   "metadata": {},
   "outputs": [],
   "source": [
    "# Clean up\n",
    "\n",
    "# Shutdown the Dask cluster\n",
    "client.close()\n",
    "cluster.close()"
   ]
  }
 ],
 "metadata": {
  "kernelspec": {
   "display_name": "py36-rapids",
   "language": "python",
   "name": "py36-rapids"
  },
  "language_info": {
   "codemirror_mode": {
    "name": "ipython",
    "version": 3
   },
   "file_extension": ".py",
   "mimetype": "text/x-python",
   "name": "python",
   "nbconvert_exporter": "python",
   "pygments_lexer": "ipython3",
   "version": "3.6.8"
  }
 },
 "nbformat": 4,
 "nbformat_minor": 2
}
