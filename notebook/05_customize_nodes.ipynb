{
 "cells": [
  {
   "cell_type": "markdown",
   "metadata": {},
   "source": [
    "### Customized your own nodes in gQuant\n",
    "\n",
    "In previous blog, we showed how to use gQuant to accelerate quantitive finance workflows in the GPU easily. The accleration in GPU is turned on by using GPU cuDF dataframe in the computation graph. cuDF is an on going project that a few dataframe methods haven't been implemented yet. Sometimes the quantitative work needs some special logics to manipulate the data that no direct support at cuDF dataframe is available yet. One solution is to build customized GPU kernels to implement them.\n",
    "\n",
    "This blog will show how to use different methods to implement customized GPU kernels in Python\n",
    "\n",
    "### Enviroment setup\n",
    "\n",
    "Load following necessary Python modules"
   ]
  },
  {
   "cell_type": "code",
   "execution_count": 2,
   "metadata": {},
   "outputs": [],
   "source": [
    "import sys\n",
    "sys.path.append('..')\n",
    "from gquant.dataframe_flow import run, load_workflow, viz_graph, get_graph, Node\n",
    "import nxpd\n",
    "import cudf\n",
    "import numpy as np\n",
    "from nxpd import draw\n",
    "from numba import cuda\n",
    "import cupy\n",
    "import math\n",
    "import dask\n",
    "import dask_cudf"
   ]
  },
  {
   "cell_type": "markdown",
   "metadata": {},
   "source": [
    "Define a utility function to verify the results:"
   ]
  },
  {
   "cell_type": "code",
   "execution_count": 3,
   "metadata": {},
   "outputs": [],
   "source": [
    "def verify(ground_truth, computed):\n",
    "    max_difference = cudf.sqrt((ground_truth - computed)**2).max()\n",
    "    assert(max_difference < 1e-8)\n",
    "    return max_difference"
   ]
  },
  {
   "cell_type": "markdown",
   "metadata": {},
   "source": [
    "### A toy Problem, compute the distance of points to the origin\n",
    "The toy problem is to compute the distance of the list of points in 2-D space to the origin. \n",
    "\n",
    "We create a source Node in the graph that generate a cuDF dataframe containing 1000 random points."
   ]
  },
  {
   "cell_type": "code",
   "execution_count": 4,
   "metadata": {},
   "outputs": [],
   "source": [
    "class PointNode(Node):\n",
    "\n",
    "    def columns_setup(self,):\n",
    "        self.required = {}\n",
    "        self.addition = {\"x\": \"float64\",\n",
    "                         \"y\": \"float64\"}\n",
    "\n",
    "    def process(self, inputs):\n",
    "        df = cudf.DataFrame()\n",
    "        df['x'] = np.random.rand(1000)\n",
    "        df['y'] = np.random.rand(1000)\n",
    "        return df"
   ]
  },
  {
   "cell_type": "markdown",
   "metadata": {},
   "source": [
    "The distance can be computed via cuDF methods. Following is to create a DistanceNode that is used to add a distance column to the output dataframe. We use it as a ground truth to verify results later"
   ]
  },
  {
   "cell_type": "code",
   "execution_count": 5,
   "metadata": {},
   "outputs": [],
   "source": [
    "class DistanceNode(Node):\n",
    "\n",
    "    def columns_setup(self,):\n",
    "        self.required = {\"x\": \"float64\",\n",
    "                         \"y\": \"float64\"}\n",
    "        self.addition = {\"distance\": \"float64\"}\n",
    "\n",
    "    def process(self, inputs):\n",
    "        df = inputs[0]\n",
    "        df['distance'] = (df['x']**2 + df['y']**2).sqrt()\n",
    "        return df"
   ]
  },
  {
   "cell_type": "markdown",
   "metadata": {},
   "source": [
    "Having these two nodes, we can construct a simple graph to compute the distance."
   ]
  },
  {
   "cell_type": "code",
   "execution_count": 6,
   "metadata": {},
   "outputs": [
    {
     "data": {
      "image/png": "[encoded data removed]",
      "text/plain": [
       "<IPython.core.display.Image object>"
      ]
     },
     "execution_count": 6,
     "metadata": {},
     "output_type": "execute_result"
    }
   ],
   "source": [
    "input_node = {\"id\": \"points\",\n",
    "              \"type\": PointNode,\n",
    "              \"conf\": {},\n",
    "              \"inputs\": []}\n",
    "distance_node = {\"id\": \"distance_by_dataframe\",\n",
    "                 \"type\": DistanceNode,\n",
    "                 \"conf\": {},\n",
    "                 \"inputs\": [\"points\"]}\n",
    "G = viz_graph([input_node, distance_node])\n",
    "draw(G, show='ipynb')"
   ]
  },
  {
   "cell_type": "markdown",
   "metadata": {},
   "source": [
    "Evaluate the output node in the graph, we get the distances:"
   ]
  },
  {
   "cell_type": "code",
   "execution_count": 7,
   "metadata": {},
   "outputs": [
    {
     "name": "stdout",
     "output_type": "stream",
     "text": [
      "                     x                    y             distance\n",
      "0  0.24744864211461703   0.8420559661943564   0.8776611422911914\n",
      "1   0.1543558871885372   0.4424360528069907  0.46858873304123594\n",
      "2   0.3635119940625038   0.3568795742429829   0.5094153514953692\n",
      "3   0.7150110593476766   0.4128603315583932   0.8256479082296478\n",
      "4   0.3209373463254228   0.4751279408906893   0.5733649278438914\n",
      "5   0.7138497382915616   0.6844185528130492   0.9889439844064171\n",
      "6   0.8851171935524784  0.13169773091112058   0.8948612957600488\n",
      "7   0.4820764687348812  0.36869068683647144   0.6069024174180244\n",
      "8   0.4802436552114432    0.618830235076933   0.7833165568377958\n",
      "9   0.4720569876068379  0.10552922248129881   0.4837088135913483\n",
      "[990 more rows]\n"
     ]
    }
   ],
   "source": [
    "o = run([input_node, distance_node], outputs=['distance_by_dataframe'], replace={})\n",
    "print(o[0])"
   ]
  },
  {
   "cell_type": "markdown",
   "metadata": {},
   "source": [
    "### Customized Kernel by Numba library\n",
    "\n",
    "Numba is an excellent python library that accelerates the numerical computations. Most importantly, Numba supports CUDA GPU programming by directly compiling a restricted subset of Python code into CUDA kernels and device functions following the CUDA execution model.\n",
    "cuDF series can be converted to GPU arrays that the Numba library recognizes.\n",
    "\n",
    "The Numba GPU kernel is written in Python and translated into GPU code in the runtime. We just need to decorate the Python function with `@cuda.jit`."
   ]
  },
  {
   "cell_type": "code",
   "execution_count": 8,
   "metadata": {},
   "outputs": [],
   "source": [
    "@cuda.jit\n",
    "def distance_kernel(x, y, distance, array_len):\n",
    "    i = cuda.threadIdx.x + cuda.blockIdx.x * cuda.blockDim.x\n",
    "    if i < array_len:\n",
    "        distance[i] = math.sqrt(x[i]**2 + y[i]**2)"
   ]
  },
  {
   "cell_type": "markdown",
   "metadata": {},
   "source": [
    "Define a Node that calls this Numba kernel to compute the distance and save the result into `distance_numba` column"
   ]
  },
  {
   "cell_type": "code",
   "execution_count": 9,
   "metadata": {},
   "outputs": [],
   "source": [
    "class NumbaDistanceNode(Node):\n",
    "\n",
    "    def columns_setup(self,):\n",
    "        self.required = {\"x\": \"float64\",\n",
    "                         \"y\": \"float64\"}\n",
    "        self.addition = {\"distance_numba\": \"float64\"}\n",
    "        self.delayed_process = True\n",
    "\n",
    "    def process(self, inputs):\n",
    "        df = inputs[0]\n",
    "        number_of_threads = 16\n",
    "        number_of_blocks = (len(df) - 1)//number_of_threads + 1\n",
    "        df['distance_numba'] = 0.0\n",
    "        distance_kernel[(number_of_blocks,), (number_of_threads,)](df['x'].data.to_gpu_array(), df['y'].data.to_gpu_array(), df['distance_numba'].data.to_gpu_array(), len(df))\n",
    "        return df"
   ]
  },
  {
   "cell_type": "markdown",
   "metadata": {},
   "source": [
    "Node, we added `self.delayed_process = True` flag in the `columns_setup`. This is necesary if we want to include this node into the Dask computation graph. Normally, the `dask_cuDF` dataframe doesn't support GPU customized kernels. We can use `to_delayed` and `from_delayed` low level interface to work around it. If the flag is added, the gQuant handles this automatically under the hood.\n",
    "\n",
    "\n",
    "### Customized Kernel by CuPy library\n",
    "\n",
    "Numba is to compile the Python code into GPU code in the runtime. It has some limitations to use it. And it adds some overhead using it too. \n",
    "When the Python process calls the Numba kernel for the first time, it take some CPU time to compile the Python code. If advanced features are needed and lattency is important, CuPy can be used to compile raw C/C++ CUDA code.\n",
    "\n",
    "`CuPy` GPU kernel is esentially a C/C++ GPU kernel, here is one example:"
   ]
  },
  {
   "cell_type": "code",
   "execution_count": 10,
   "metadata": {},
   "outputs": [],
   "source": [
    "raw_kernel = cupy.RawKernel(r'''\n",
    "    extern \"C\" __global__\n",
    "    void compute_distance(const double* x, const double* y, double* distance, int arr_len) {\n",
    "        int tid = blockDim.x * blockIdx.x + threadIdx.x;\n",
    "        if (tid < arr_len){\n",
    "        distance[tid] = sqrt(x[tid]*x[tid] + y[tid]*y[tid]);\n",
    "        }\n",
    "    }\n",
    "''', 'compute_distance')"
   ]
  },
  {
   "cell_type": "markdown",
   "metadata": {},
   "source": [
    "Define a Node that calls this CuPy kernel to compute the distance and save the results into `distance_cupy` column"
   ]
  },
  {
   "cell_type": "code",
   "execution_count": 11,
   "metadata": {},
   "outputs": [],
   "source": [
    "class CupyDistanceNode(Node):\n",
    "\n",
    "    def columns_setup(self,):\n",
    "        self.required = {\"x\": \"float64\",\n",
    "                         \"y\": \"float64\"}\n",
    "        self.addition = {\"distance_cupy\": \"float64\"}\n",
    "        self.delayed_process = True\n",
    "\n",
    "    def process(self, inputs):\n",
    "        df = inputs[0]\n",
    "        cupy_x = cupy.asarray(df['x'].data.to_gpu_array())\n",
    "        cupy_y = cupy.asarray(df['y'].data.to_gpu_array())\n",
    "        number_of_threads = 16\n",
    "        number_of_blocks = (len(df) - 1)//number_of_threads + 1\n",
    "        dis = cupy.arange(len(df), dtype=cupy.float64)\n",
    "        raw_kernel((number_of_blocks,), (number_of_threads,), (cupy_x, cupy_y, dis, len(df)))\n",
    "        df['distance_cupy'] = dis\n",
    "        return df"
   ]
  },
  {
   "cell_type": "markdown",
   "metadata": {},
   "source": [
    "Node, `self.delayed_process = True` flag is added for the same reason.\n",
    "\n",
    "### Compute the Nodes with customized GPU kernels\n",
    "\n",
    "First we construct the computation graph for gQuant"
   ]
  },
  {
   "cell_type": "code",
   "execution_count": 12,
   "metadata": {},
   "outputs": [
    {
     "data": {
      "image/png": "[encoded data removed]",
      "text/plain": [
       "<IPython.core.display.Image object>"
      ]
     },
     "execution_count": 12,
     "metadata": {},
     "output_type": "execute_result"
    }
   ],
   "source": [
    "numba_distance_node = {\"id\": \"distance_by_numba\",\n",
    "                       \"type\": NumbaDistanceNode,\n",
    "                       \"conf\": {},\n",
    "                       \"inputs\": [\"points\"]}\n",
    "cupy_distance_node = {\"id\": \"distance_by_cupy\",\n",
    "                      \"type\": CupyDistanceNode,\n",
    "                      \"conf\": {},\n",
    "                      \"inputs\": [\"points\"]}\n",
    "\n",
    "graph = [input_node, numba_distance_node, cupy_distance_node, distance_node]\n",
    "G = viz_graph(graph)\n",
    "draw(G, show='ipynb')"
   ]
  },
  {
   "cell_type": "code",
   "execution_count": 13,
   "metadata": {},
   "outputs": [],
   "source": [
    "numba_df, cupy_df, gt_df = run(graph,\n",
    "                               outputs=['distance_by_numba', 'distance_by_cupy',\n",
    "                                        'distance_by_dataframe'],\n",
    "                               replace={})"
   ]
  },
  {
   "cell_type": "markdown",
   "metadata": {},
   "source": [
    "Use `verify` method defined above to verify the results:"
   ]
  },
  {
   "cell_type": "code",
   "execution_count": 14,
   "metadata": {},
   "outputs": [
    {
     "name": "stdout",
     "output_type": "stream",
     "text": [
      "2.220446049250313e-16\n",
      "2.220446049250313e-16\n"
     ]
    }
   ],
   "source": [
    "print(verify(numba_df['distance_numba'], gt_df['distance']))\n",
    "print(verify(cupy_df['distance_cupy'], gt_df['distance']))"
   ]
  },
  {
   "cell_type": "markdown",
   "metadata": {},
   "source": [
    "### Dask distributed computation\n",
    "\n",
    "To evaluate the Nodes with customized GPU kernels in the GPU in Dask environment is straightfowrd as we already added `self.delayed_process = True` flag.\n",
    "\n",
    "We first start the Dask environment"
   ]
  },
  {
   "cell_type": "code",
   "execution_count": 15,
   "metadata": {},
   "outputs": [
    {
     "name": "stderr",
     "output_type": "stream",
     "text": [
      "/conda/envs/rapids/lib/python3.6/site-packages/distributed/bokeh/core.py:74: UserWarning: \n",
      "Port 8787 is already in use. \n",
      "Perhaps you already have a cluster running?\n",
      "Hosting the diagnostics dashboard on a random port instead.\n",
      "  warnings.warn(\"\\n\" + msg)\n"
     ]
    },
    {
     "data": {
      "text/html": [
       "<table style=\"border: 2px solid white;\">\n",
       "<tr>\n",
       "<td style=\"vertical-align: top; border: 0px solid white\">\n",
       "<h3>Client</h3>\n",
       "<ul>\n",
       "  <li><b>Scheduler: </b>tcp://127.0.0.1:40522\n",
       "  <li><b>Dashboard: </b><a href='http://127.0.0.1:43946/status' target='_blank'>http://127.0.0.1:43946/status</a>\n",
       "</ul>\n",
       "</td>\n",
       "<td style=\"vertical-align: top; border: 0px solid white\">\n",
       "<h3>Cluster</h3>\n",
       "<ul>\n",
       "  <li><b>Workers: </b>8</li>\n",
       "  <li><b>Cores: </b>8</li>\n",
       "  <li><b>Memory: </b>536.39 GB</li>\n",
       "</ul>\n",
       "</td>\n",
       "</tr>\n",
       "</table>"
      ],
      "text/plain": [
       "<Client: scheduler='tcp://127.0.0.1:40522' processes=8 cores=8>"
      ]
     },
     "execution_count": 15,
     "metadata": {},
     "output_type": "execute_result"
    }
   ],
   "source": [
    "from dask_cuda import LocalCUDACluster\n",
    "cluster = LocalCUDACluster()\n",
    "from dask.distributed import Client\n",
    "client = Client(cluster)\n",
    "client"
   ]
  },
  {
   "cell_type": "markdown",
   "metadata": {},
   "source": [
    "The Dask status page can be popped up in the brwoser by following javascript commands:"
   ]
  },
  {
   "cell_type": "code",
   "execution_count": 16,
   "metadata": {},
   "outputs": [
    {
     "data": {
      "text/html": [
       "\n",
       "<script type=\"text/Javascript\">\n",
       "    function check_status(){\n",
       "        var url = document.location.href;\n",
       "        var index = url.indexOf(':8888');\n",
       "        var status = url.substr(0, index)+\":8787\";\n",
       "        window.open(status,'_blank');\n",
       "    }\n",
       "    check_status();\n",
       "</script>\n"
      ],
      "text/plain": [
       "<IPython.core.display.HTML object>"
      ]
     },
     "execution_count": 16,
     "metadata": {},
     "output_type": "execute_result"
    }
   ],
   "source": [
    "from IPython.display import HTML\n",
    "javascript = \"\"\"\n",
    "<script type=\"text/Javascript\">\n",
    "    function check_status(){\n",
    "        var url = document.location.href;\n",
    "        var index = url.indexOf(':8888');\n",
    "        var status = url.substr(0, index)+\":8787\";\n",
    "        window.open(status,'_blank');\n",
    "    }\n",
    "    check_status();\n",
    "</script>\n",
    "\"\"\"\n",
    "HTML(javascript)"
   ]
  },
  {
   "cell_type": "markdown",
   "metadata": {},
   "source": [
    "We need a Node that partition the `cudf` dataframe into `dask_cudf` dataframe. Here we make 8 partitions:"
   ]
  },
  {
   "cell_type": "code",
   "execution_count": 17,
   "metadata": {},
   "outputs": [],
   "source": [
    "class DistributedNode(Node):\n",
    "\n",
    "    def columns_setup(self,):\n",
    "        self.required = {\"x\": \"float64\",\n",
    "                         \"y\": \"float64\"}\n",
    "\n",
    "    def process(self, inputs):\n",
    "        df = inputs[0]\n",
    "        return dask_cudf.from_cudf(df, npartitions=8)"
   ]
  },
  {
   "cell_type": "markdown",
   "metadata": {},
   "source": [
    "The computation graph need to be changed to include this node"
   ]
  },
  {
   "cell_type": "code",
   "execution_count": 18,
   "metadata": {},
   "outputs": [
    {
     "data": {
      "image/png": "[encoded data removed]",
      "text/plain": [
       "<IPython.core.display.Image object>"
      ]
     },
     "execution_count": 18,
     "metadata": {},
     "output_type": "execute_result"
    }
   ],
   "source": [
    "input_node = {\"id\": \"points\",\n",
    "              \"type\": PointNode,\n",
    "              \"conf\": {},\n",
    "              \"inputs\": []}\n",
    "distributed_node = {\"id\": \"distributed_points\",\n",
    "                    \"type\": DistributedNode,\n",
    "                    \"conf\": {},\n",
    "                    \"inputs\": [\"points\"]}\n",
    "distance_node = {\"id\": \"distance_by_dataframe\",\n",
    "                 \"type\": DistanceNode,\n",
    "                 \"conf\": {},\n",
    "                 \"inputs\": [\"points\"]}\n",
    "numba_distance_node = {\"id\": \"distance_by_numba\",\n",
    "                       \"type\": NumbaDistanceNode,\n",
    "                       \"conf\": {},\n",
    "                       \"inputs\": [\"distributed_points\"]}\n",
    "cupy_distance_node = {\"id\": \"distance_by_cupy\",\n",
    "                      \"type\": CupyDistanceNode,\n",
    "                      \"conf\": {},\n",
    "                      \"inputs\": [\"distributed_points\"]}\n",
    "graph = [input_node, distributed_node, distance_node, numba_distance_node, cupy_distance_node]\n",
    "G = viz_graph(graph)\n",
    "draw(G, show='ipynb')"
   ]
  },
  {
   "cell_type": "code",
   "execution_count": 19,
   "metadata": {},
   "outputs": [],
   "source": [
    "numba_df, cupy_df, gt_df = run(graph, ['distance_by_numba', 'distance_by_cupy', 'distance_by_dataframe'], {})"
   ]
  },
  {
   "cell_type": "markdown",
   "metadata": {},
   "source": [
    "Verify the results:"
   ]
  },
  {
   "cell_type": "code",
   "execution_count": 20,
   "metadata": {},
   "outputs": [
    {
     "name": "stdout",
     "output_type": "stream",
     "text": [
      "2.220446049250313e-16\n",
      "2.220446049250313e-16\n"
     ]
    }
   ],
   "source": [
    "print(verify(numba_df['distance_numba'].compute(), gt_df['distance']))\n",
    "print(verify(cupy_df['distance_cupy'].compute(), gt_df['distance']))"
   ]
  },
  {
   "cell_type": "markdown",
   "metadata": {},
   "source": [
    "There is one limitation for using customized kernels in the Nodes in the Dask environment. Each GPU kernel is assumed to work on one partition of the dataframe. So if the computation depends on other partitions of the dataframe, this approach doesn't work.\n",
    "\n",
    "### Conclusions\n",
    "\n",
    "Using customized GPU kernels allows data scientists to implement lots of complicated logics. We show it can be done either by Numba method or CuPy method.\n",
    "\n",
    "The Numba method allows data scientists to use their familar Python langague to write GPU kernels. It is easy to write and relatively fast in performance. However there is some overheads of compiling the kernels whenever this GPU kernel is used for the first time in the Python process. Currently Numba library only supports primitive data types. Some advance CUDA programming features like function pointer and function recursions are not supported. \n",
    "\n",
    "The Cupy method is very flexible because data scientists is writing C++/C GPU kernels. All the CUDA programming features are supported. It compiles the kernel and caches to the filesystem. The launch overhead is low. As GPU kernel is built statically, the runtime efficiency is highest. However it is hard for data scientists to use becasue C/C++ programming skills are needed. \n",
    "\n",
    "There is a comparison table\n",
    "\n",
    "| Methods | Development Difficulty | Flexibility | Efficiency | Lattency |\n",
    "|---|---|---|---|---|\n",
    "| Numba method | medium | medium | low | high |\n",
    "| CuPy method | hard | high  | high | low |\n",
    "\n",
    "We recommend data scientists to choose the right approach to balance the efficiency, lattency, difficulty and flexibility for their workflow. \n",
    "\n",
    "In this blog, we also show wrapping the customize GPU kernels in gQuant nodes, it is easy to include them into the Dask distributed computation graph. Because the gQuant handles the low-level Daks interface for the developer."
   ]
  },
  {
   "cell_type": "code",
   "execution_count": null,
   "metadata": {},
   "outputs": [],
   "source": []
  }
 ],
 "metadata": {
  "kernelspec": {
   "display_name": "Python 3",
   "language": "python",
   "name": "python3"
  },
  "language_info": {
   "codemirror_mode": {
    "name": "ipython",
    "version": 3
   },
   "file_extension": ".py",
   "mimetype": "text/x-python",
   "name": "python",
   "nbconvert_exporter": "python",
   "pygments_lexer": "ipython3",
   "version": "3.6.8"
  }
 },
 "nbformat": 4,
 "nbformat_minor": 2
}
